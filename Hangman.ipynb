{
 "cells": [
  {
   "cell_type": "code",
   "execution_count": 9,
   "metadata": {},
   "outputs": [],
   "source": [
    "import pandas as pd\n",
    "words=[]\n",
    "counts=[]\n",
    "with open(\"hw2_word_counts_05.txt\") as f:\n",
    "    for i in f.readlines():\n",
    "        i=i.strip(\"\\n\").split(\" \")\n",
    "        words.append(i[0])\n",
    "        counts.append(i[1])\n",
    "df=pd.DataFrame({'word': words, 'count': counts})\n",
    "        \n"
   ]
  },
  {
   "cell_type": "code",
   "execution_count": 18,
   "metadata": {},
   "outputs": [],
   "source": [
    "df.shape\n",
    "df['count']=df['count'].astype(int)"
   ]
  },
  {
   "cell_type": "code",
   "execution_count": 17,
   "metadata": {},
   "outputs": [],
   "source": [
    "import numpy as np"
   ]
  },
  {
   "cell_type": "code",
   "execution_count": 20,
   "metadata": {},
   "outputs": [],
   "source": [
    "count_total=sum(df['count'])\n",
    "df['prior probability']=df['count'].apply(lambda x: x/count_total)"
   ]
  },
  {
   "cell_type": "markdown",
   "metadata": {},
   "source": [
    "## (a)"
   ]
  },
  {
   "cell_type": "code",
   "execution_count": 37,
   "metadata": {},
   "outputs": [
    {
     "name": "stdout",
     "output_type": "stream",
     "text": [
      "['MAPCO', 'BOSAK', 'CAIXA', 'OTTIS', 'TROUP', 'CLEFT', 'FOAMY', 'CCAIR', 'SERNA', 'YALOM']\n"
     ]
    }
   ],
   "source": [
    "# the 10 least frequent 5-letter words\n",
    "df_sort=df.sort_values(by=['prior probability'], ascending=True)\n",
    "print(df_sort.head(10)['word'].tolist())"
   ]
  },
  {
   "cell_type": "code",
   "execution_count": 38,
   "metadata": {},
   "outputs": [
    {
     "name": "stdout",
     "output_type": "stream",
     "text": [
      "['THREE', 'SEVEN', 'EIGHT', 'WOULD', 'ABOUT', 'THEIR', 'WHICH', 'AFTER', 'FIRST', 'FIFTY']\n"
     ]
    }
   ],
   "source": [
    "# the 10 most frequent 5-letter words\n",
    "df_sort=df.sort_values(by=['prior probability'], ascending=False)\n",
    "print(df_sort.head(10)['word'].tolist())"
   ]
  },
  {
   "cell_type": "markdown",
   "metadata": {},
   "source": [
    "## (b) Consider the following stages of the game.  For each of the following, indicate the best next guess—namely, the letter`that is most likely (probable) to be among the missing letters.  Also report theprobabilityP(Li=`for somei∈{1,2,3,4,5}|E)for your guess`.  Your answers should fill in thelast two columns of this table. "
   ]
  },
  {
   "cell_type": "code",
   "execution_count": 169,
   "metadata": {},
   "outputs": [
    {
     "data": {
      "text/plain": [
       "26"
      ]
     },
     "execution_count": 169,
     "metadata": {},
     "output_type": "execute_result"
    }
   ],
   "source": [
    "import string\n",
    "all_letters=list(string.ascii_uppercase)\n",
    "len(all_letters)"
   ]
  },
  {
   "cell_type": "code",
   "execution_count": 409,
   "metadata": {},
   "outputs": [],
   "source": [
    "def best_guess(positions, condition):\n",
    "    probs_letter=[]\n",
    "    selected_df=translate_condition(condition)\n",
    "    incorrect_guess=[list(x)[1:] for x in condition if x[0]=='!'][0]\n",
    "    existed_letters=[ x for x in condition if x[0]!=\"!\"]\n",
    "    combined_letters=incorrect_guess+existed_letters\n",
    "    available_letter=np.array([x for x  in all_letters if x not in combined_letters ])\n",
    "    for letter in available_letter:\n",
    "        probs=0\n",
    "        for w in words:\n",
    "            prob=letter_given_word(letter, positions, w)*word_given_condition(w, selected_df)\n",
    "            probs+=prob\n",
    "        probs_letter.append(probs)\n",
    "    dic=dict(zip(available_letter, probs_letter))\n",
    "    sorted_dic = sorted(dic.items(), key=lambda x: x[1])\n",
    "    return sorted_dic"
   ]
  },
  {
   "cell_type": "code",
   "execution_count": 410,
   "metadata": {},
   "outputs": [],
   "source": [
    "#input \"condition\" looks like ['A','!DIM', 'A','!DIM','A']\n",
    "def translate_condition(condition):\n",
    "    bool_index=np.array([0]*len(words))\n",
    "    for i in range(5):\n",
    "        if condition[i][0]=='!':\n",
    "            index=np.array([1 if w[i] not in list(condition[i][1:]) else 0 for w in words])\n",
    "        else:\n",
    "            index=np.array([1 if w[i] in list(condition[i]) else 0 for w in words])\n",
    "        bool_index+=index\n",
    "    boolean=np.array([True if x==5 else False for x in bool_index])\n",
    "    selected_df=df.loc[boolean]\n",
    "\n",
    "    return selected_df\n",
    "        \n",
    "        \n",
    "    \n",
    "    "
   ]
  },
  {
   "cell_type": "code",
   "execution_count": 411,
   "metadata": {},
   "outputs": [],
   "source": [
    "#P(L2=letter or L4=letter|W=word)\n",
    "def letter_given_word(letter, positions, w):\n",
    "    all_letters=[w[p] for p in positions]\n",
    "    if letter in all_letters:\n",
    "        return 1\n",
    "    else:\n",
    "        return 0\n"
   ]
  },
  {
   "cell_type": "code",
   "execution_count": 412,
   "metadata": {},
   "outputs": [],
   "source": [
    "#P(W=word|['A','!DIM', 'A','!DIM','A'])\n",
    "def word_given_condition(word, selected_df):\n",
    "    selected_words=selected_df['word'].tolist()\n",
    "    if word in selected_words:\n",
    "        prob=(selected_df.loc[df['word']==word, 'prior probability'].tolist()[0])/sum_over_words(selected_df)\n",
    "        return prob\n",
    "    else:\n",
    "        return 0"
   ]
  },
  {
   "cell_type": "code",
   "execution_count": 413,
   "metadata": {},
   "outputs": [],
   "source": [
    "#sum over all W=word P(W=word)*P(['A','!DIM', 'A','!DIM','A']|W=word)\n",
    "def sum_over_words(selected_df):\n",
    "    denominator=sum(selected_df['prior probability'].tolist())\n",
    "    return denominator"
   ]
  },
  {
   "cell_type": "code",
   "execution_count": 414,
   "metadata": {},
   "outputs": [
    {
     "data": {
      "text/plain": [
       "[('Q', 0.00427105163214392),\n",
       " ('Z', 0.004292056590227283),\n",
       " ('J', 0.0156305590567442),\n",
       " ('X', 0.02074950648133407),\n",
       " ('K', 0.05958258581993068),\n",
       " ('V', 0.0636935561876753),\n",
       " ('P', 0.07724932115497987),\n",
       " ('B', 0.08609971458045383),\n",
       " ('M', 0.09001668263347835),\n",
       " ('F', 0.10400220121523383),\n",
       " ('Y', 0.10544123654231163),\n",
       " ('W', 0.10968606459324604),\n",
       " ('G', 0.11007759179329685),\n",
       " ('C', 0.1490947580626736),\n",
       " ('U', 0.1563097654659429),\n",
       " ('D', 0.17146229864431783),\n",
       " ('L', 0.20103153914025848),\n",
       " ('N', 0.23201711395267793),\n",
       " ('H', 0.2597325690485792),\n",
       " ('I', 0.30255306785240443),\n",
       " ('O', 0.3146699279582096),\n",
       " ('A', 0.3468993615927841),\n",
       " ('S', 0.3498943294049684),\n",
       " ('R', 0.38310199394456784),\n",
       " ('T', 0.4306932275448822),\n",
       " ('E', 0.5394172389647948)]"
      ]
     },
     "execution_count": 414,
     "metadata": {},
     "output_type": "execute_result"
    }
   ],
   "source": [
    "best_guess(positions=range(5), condition=[\"!\", \"!\", '!', \"!\", \"!\"])\n",
    "#E"
   ]
  },
  {
   "cell_type": "code",
   "execution_count": 415,
   "metadata": {},
   "outputs": [
    {
     "data": {
      "text/plain": [
       "[('Z', 0.004600009630695309),\n",
       " ('Q', 0.008808839896183291),\n",
       " ('J', 0.011516255585668045),\n",
       " ('V', 0.028985687596476108),\n",
       " ('X', 0.043630296003207454),\n",
       " ('B', 0.07800646771525846),\n",
       " ('K', 0.0903743364694415),\n",
       " ('M', 0.10066457208061465),\n",
       " ('W', 0.10232343229323658),\n",
       " ('P', 0.10274977992779173),\n",
       " ('G', 0.11908030106202792),\n",
       " ('D', 0.1265246121075158),\n",
       " ('U', 0.14430027858679872),\n",
       " ('Y', 0.18198713707022407),\n",
       " ('F', 0.18460744366178572),\n",
       " ('C', 0.20778549736319193),\n",
       " ('L', 0.24638456664846997),\n",
       " ('N', 0.2588422497520644),\n",
       " ('H', 0.2725356917355115),\n",
       " ('R', 0.3098751959278397),\n",
       " ('S', 0.42672258241142985),\n",
       " ('A', 0.44255209097003284),\n",
       " ('T', 0.485750087785412),\n",
       " ('I', 0.6365554141009618)]"
      ]
     },
     "execution_count": 415,
     "metadata": {},
     "output_type": "execute_result"
    }
   ],
   "source": [
    "best_guess(positions=range(5), condition=[\"!EO\", \"!EO\", '!EO', \"!EO\", \"!EO\"])\n",
    "#I"
   ]
  },
  {
   "cell_type": "code",
   "execution_count": 416,
   "metadata": {},
   "outputs": [
    {
     "data": {
      "text/plain": [
       "[('F', 0.0),\n",
       " ('J', 0.0),\n",
       " ('M', 0.0),\n",
       " ('V', 0.0),\n",
       " ('W', 0.0),\n",
       " ('X', 0.0),\n",
       " ('Z', 0.0),\n",
       " ('B', 0.0011342369420972046),\n",
       " ('G', 0.0019282028015652477),\n",
       " ('D', 0.0024386094255089896),\n",
       " ('P', 0.003289287132081893),\n",
       " ('H', 0.005501049169171442),\n",
       " ('Y', 0.005501049169171442),\n",
       " ('R', 0.029093177564793293),\n",
       " ('L', 0.03958486927919244),\n",
       " ('S', 0.07202404582317248),\n",
       " ('O', 0.07996370441785292),\n",
       " ('N', 0.10905688198264621),\n",
       " ('C', 0.17132649010378273),\n",
       " ('A', 0.2078489196393127),\n",
       " ('K', 0.2873022174332219),\n",
       " ('T', 0.5447740032892873),\n",
       " ('I', 0.6393693642601942),\n",
       " ('E', 0.6668746101060513),\n",
       " ('U', 0.9866727159303582)]"
      ]
     },
     "execution_count": 416,
     "metadata": {},
     "output_type": "execute_result"
    }
   ],
   "source": [
    "best_guess(positions=range(1, 5), condition=[\"Q\", \"!\", '!', \"!\", \"!\"])\n",
    "#U"
   ]
  },
  {
   "cell_type": "code",
   "execution_count": 417,
   "metadata": {},
   "outputs": [
    {
     "data": {
      "text/plain": [
       "[('C', 0.0),\n",
       " ('D', 0.0),\n",
       " ('E', 0.0),\n",
       " ('F', 0.0),\n",
       " ('G', 0.0),\n",
       " ('H', 0.0),\n",
       " ('I', 0.0),\n",
       " ('J', 0.0),\n",
       " ('K', 0.0),\n",
       " ('L', 0.0),\n",
       " ('M', 0.0),\n",
       " ('N', 0.0),\n",
       " ('O', 0.0),\n",
       " ('P', 0.0),\n",
       " ('V', 0.0),\n",
       " ('W', 0.0),\n",
       " ('X', 0.0),\n",
       " ('Y', 0.0),\n",
       " ('Z', 0.0),\n",
       " ('B', 0.0851063829787234),\n",
       " ('S', 0.0851063829787234),\n",
       " ('R', 0.9148936170212765),\n",
       " ('T', 0.9148936170212765),\n",
       " ('A', 0.9999999999999999)]"
      ]
     },
     "execution_count": 417,
     "metadata": {},
     "output_type": "execute_result"
    }
   ],
   "source": [
    "best_guess(positions=range(1, 5), condition=[\"Q\", \"!U\", '!U', \"!U\", \"!U\"])\n",
    "#A"
   ]
  },
  {
   "cell_type": "code",
   "execution_count": 419,
   "metadata": {},
   "outputs": [
    {
     "data": {
      "text/plain": [
       "[('C', 0.0),\n",
       " ('G', 0.0),\n",
       " ('H', 0.0),\n",
       " ('L', 0.0),\n",
       " ('M', 0.0),\n",
       " ('P', 0.0),\n",
       " ('Q', 0.0),\n",
       " ('S', 0.0),\n",
       " ('T', 0.0),\n",
       " ('V', 0.0),\n",
       " ('W', 0.0),\n",
       " ('X', 0.0),\n",
       " ('Y', 0.0),\n",
       " ('N', 0.11965811965811965),\n",
       " ('U', 0.11965811965811965),\n",
       " ('B', 0.21367521367521367),\n",
       " ('K', 0.21367521367521367),\n",
       " ('F', 0.6666666666666666),\n",
       " ('J', 0.6666666666666666),\n",
       " ('O', 0.8803418803418803)]"
      ]
     },
     "execution_count": 419,
     "metadata": {},
     "output_type": "execute_result"
    }
   ],
   "source": [
    "best_guess(positions=[0,1,4], condition=[\"!ADIR\", \"!ADIR\", 'Z', \"E\", \"!ADIR\"])\n",
    "#U"
   ]
  },
  {
   "cell_type": "code",
   "execution_count": null,
   "metadata": {},
   "outputs": [],
   "source": []
  },
  {
   "cell_type": "code",
   "execution_count": null,
   "metadata": {},
   "outputs": [],
   "source": []
  }
 ],
 "metadata": {
  "kernelspec": {
   "display_name": "Python 3",
   "language": "python",
   "name": "python3"
  },
  "language_info": {
   "codemirror_mode": {
    "name": "ipython",
    "version": 3
   },
   "file_extension": ".py",
   "mimetype": "text/x-python",
   "name": "python",
   "nbconvert_exporter": "python",
   "pygments_lexer": "ipython3",
   "version": "3.7.3"
  }
 },
 "nbformat": 4,
 "nbformat_minor": 2
}
